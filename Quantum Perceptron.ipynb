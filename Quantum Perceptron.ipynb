{
 "cells": [
  {
   "cell_type": "markdown",
   "metadata": {},
   "source": [
    "# Quantum Perceptron\n",
    "\n",
    "The following notebook contains the Python 3.6.6 implementation of the quantum perceptron algorithm in the one and two qubit cases. We considered the variant of the classical perceptron algorithm with binary inputs and weights i.e. {-1, 1}. The quantum perceptron algorithm used in this implementation is discussed in detail here : https://arxiv.org/abs/1811.02266. We considered both approaches i.e. using sign-flip blocks and using the hypergraph state generation subroutine in order to implement the algorithm. Note that only the forward procedure of the perceptron algorithm is considered since the backpropagation of error and gradient descent to optimize weights is still and open problem."
   ]
  },
  {
   "cell_type": "code",
   "execution_count": null,
   "metadata": {},
   "outputs": [],
   "source": []
  }
 ],
 "metadata": {
  "kernelspec": {
   "display_name": "Python 3",
   "language": "python",
   "name": "python3"
  },
  "language_info": {
   "codemirror_mode": {
    "name": "ipython",
    "version": 3
   },
   "file_extension": ".py",
   "mimetype": "text/x-python",
   "name": "python",
   "nbconvert_exporter": "python",
   "pygments_lexer": "ipython3",
   "version": "3.6.6"
  }
 },
 "nbformat": 4,
 "nbformat_minor": 2
}
