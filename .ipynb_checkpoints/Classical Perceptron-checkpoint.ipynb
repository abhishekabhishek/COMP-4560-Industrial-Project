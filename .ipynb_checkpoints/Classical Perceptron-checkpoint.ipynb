{
 "cells": [
  {
   "cell_type": "markdown",
   "metadata": {},
   "source": [
    "# Classical Perceptron Algorithm\n",
    "\n",
    "The following notebook contains the Python 3.6.6 implementation of the classical perceptron algorithm in the special case with binary inputs and weights i.e. {-1, +1} with various number of inputs and corresponding weights. We only consider the forward procedure in which the inputs and weights of the perceptron are used to compute the output of the perceptron. We did not consider the learning problem of the perceptron in which the goal is to learn a hyperplane in feature space which correctly identifies the training examples."
   ]
  },
  {
   "cell_type": "markdown",
   "metadata": {},
   "source": [
    "## 1. One Qubit Case\n",
    "\n",
    "A single qubit in a superposition is able to represent two binary inputs or binary weights simultaneously in the phase of the two basis states 0 and 1. The weight w_0 is always 1 since it is considered as the bias weight. The classical equivalent of the one qubit case however requires more bits to store that information.\n",
    "\n",
    "We will consider four cases with the following input and weight configurations :\n",
    "\n",
    "1 : i_0 = 1, i_1 = 1 and w_0 = 1, w_1 = 1\n",
    "\n",
    "2 : i_0 = 1, i_1 = -1 and w_0 = 1, w_1 = 1\n",
    "\n",
    "3 : i_0 = 1, i_1 = 1 and w_0 = 1, w_1 = -1\n",
    "\n",
    "4 : i_0 = 1, i_1 = -1 and w_0 = 1, w_1 = -1"
   ]
  },
  {
   "cell_type": "code",
   "execution_count": 4,
   "metadata": {},
   "outputs": [
    {
     "name": "stdout",
     "output_type": "stream",
     "text": [
      "Case 1 :\n",
      " Input i_0 = 1, Input i_1 = 1\n",
      " Weight w_0 = 1, Weight w_1 = 1\n",
      " Output = 1\n",
      "\n",
      "Case 2 :\n",
      " Input i_0 = 1, Input i_1 = -1\n",
      " Weight w_0 = 1, Weight w_1 = 1\n",
      " Output = 0\n",
      "\n",
      "Case 3 :\n",
      " Input i_0 = 1, Input i_1 = 1\n",
      " Weight w_0 = 1, Weight w_1 = -1\n",
      " Output = 0\n",
      "\n",
      "Case 4 :\n",
      " Input i_0 = 1, Input i_1 = -1\n",
      " Weight w_0 = 1, Weight w_1 = -1\n",
      " Output = 1\n",
      "\n"
     ]
    }
   ],
   "source": [
    "# Case 1\n",
    "i_vector = [1, 1]\n",
    "w_vector = [1, 1]\n",
    "\n",
    "out = 1 if sum([x*y for x,y in zip(i_vector, w_vector)]) > 0 else 0\n",
    "print('Case 1 :\\n Input i_0 = {0}, Input i_1 = {1}\\n Weight w_0 = {2}, Weight w_1 = {3}\\n Output = {4}\\n'.format(\n",
    "    i_vector[0], i_vector[1],w_vector[0],w_vector[1], out))\n",
    "\n",
    "# Case 2\n",
    "i_vector = [1, -1]\n",
    "w_vector = [1, 1]\n",
    "\n",
    "out = 1 if sum([x*y for x,y in zip(i_vector, w_vector)]) > 0 else 0\n",
    "print('Case 2 :\\n Input i_0 = {0}, Input i_1 = {1}\\n Weight w_0 = {2}, Weight w_1 = {3}\\n Output = {4}\\n'.format(\n",
    "    i_vector[0], i_vector[1],w_vector[0],w_vector[1], out))\n",
    "\n",
    "# Case 3\n",
    "i_vector = [1, 1]\n",
    "w_vector = [1, -1]\n",
    "\n",
    "out = 1 if sum([x*y for x,y in zip(i_vector, w_vector)]) > 0 else 0\n",
    "print('Case 3 :\\n Input i_0 = {0}, Input i_1 = {1}\\n Weight w_0 = {2}, Weight w_1 = {3}\\n Output = {4}\\n'.format(\n",
    "    i_vector[0], i_vector[1],w_vector[0],w_vector[1], out))\n",
    "\n",
    "# Case 4\n",
    "i_vector = [1, -1]\n",
    "w_vector = [1, -1]\n",
    "\n",
    "out = 1 if sum([x*y for x,y in zip(i_vector, w_vector)]) > 0 else 0\n",
    "print('Case 4 :\\n Input i_0 = {0}, Input i_1 = {1}\\n Weight w_0 = {2}, Weight w_1 = {3}\\n Output = {4}\\n'.format(\n",
    "    i_vector[0], i_vector[1],w_vector[0],w_vector[1], out))"
   ]
  },
  {
   "cell_type": "markdown",
   "metadata": {},
   "source": [
    "## 2. Two Qubit Case\n",
    "\n",
    "Two qubits in a superposition are able to represent four binary input or binary weights simultaneously in the phase of the tensor product of the two computational basis states 00, 01, 10 and 11."
   ]
  },
  {
   "cell_type": "code",
   "execution_count": 5,
   "metadata": {},
   "outputs": [
    {
     "name": "stdout",
     "output_type": "stream",
     "text": [
      "Case 1 :\n",
      " Input i_0 = 1, Input i_1 = 1, Input i_2 = 1, Input i_3 = 1\n",
      " Weight w_0 = 1, Weight w_1 = 1, Weight w_1 = 1, Weight w_1 = 1\n",
      " Output = 1\n",
      "\n",
      "Case 2 :\n",
      " Input i_0 = 1, Input i_1 = -1, Input i_2 = -1, Input i_3 = -1\n",
      " Weight w_0 = 1, Weight w_1 = 1, Weight w_1 = 1, Weight w_1 = 1\n",
      " Output = 0\n",
      "\n",
      "Case 3 :\n",
      " Input i_0 = 1, Input i_1 = 1, Input i_2 = 1, Input i_3 = 1\n",
      " Weight w_0 = 1, Weight w_1 = -1, Weight w_1 = 1, Weight w_1 = -1\n",
      " Output = 0\n",
      "\n",
      "Case 4 :\n",
      " Input i_0 = 1, Input i_1 = 1, Input i_2 = -1, Input i_3 = -1\n",
      " Weight w_0 = 1, Weight w_1 = -1, Weight w_1 = -1, Weight w_1 = -1\n",
      " Output = 1\n",
      "\n"
     ]
    }
   ],
   "source": [
    "# Case 1\n",
    "i_vector = [1, 1, 1, 1]\n",
    "w_vector = [1, 1, 1, 1]\n",
    "\n",
    "out = 1 if sum([x*y for x,y in zip(i_vector, w_vector)]) > 0 else 0\n",
    "print('Case 1 :\\n Input i_0 = {0}, Input i_1 = {1}, Input i_2 = {2}, Input i_3 = {3}\\n Weight w_0 = {4}, Weight w_1 = {5}, Weight w_1 = {6}, Weight w_1 = {7}\\n Output = {8}\\n'.format(\n",
    "    i_vector[0], i_vector[1], i_vector[2], i_vector[3], w_vector[0], w_vector[1], w_vector[2], w_vector[3], out))\n",
    "\n",
    "# Case 2\n",
    "i_vector = [1,-1, -1, -1]\n",
    "w_vector = [1, 1, 1, 1]\n",
    "\n",
    "out = 1 if sum([x*y for x,y in zip(i_vector, w_vector)]) > 0 else 0\n",
    "print('Case 2 :\\n Input i_0 = {0}, Input i_1 = {1}, Input i_2 = {2}, Input i_3 = {3}\\n Weight w_0 = {4}, Weight w_1 = {5}, Weight w_1 = {6}, Weight w_1 = {7}\\n Output = {8}\\n'.format(\n",
    "    i_vector[0], i_vector[1], i_vector[2], i_vector[3], w_vector[0], w_vector[1], w_vector[2], w_vector[3], out))\n",
    "\n",
    "# Case 3\n",
    "i_vector = [1, 1, 1, 1]\n",
    "w_vector = [1, -1, 1, -1]\n",
    "\n",
    "out = 1 if sum([x*y for x,y in zip(i_vector, w_vector)]) > 0 else 0\n",
    "print('Case 3 :\\n Input i_0 = {0}, Input i_1 = {1}, Input i_2 = {2}, Input i_3 = {3}\\n Weight w_0 = {4}, Weight w_1 = {5}, Weight w_1 = {6}, Weight w_1 = {7}\\n Output = {8}\\n'.format(\n",
    "    i_vector[0], i_vector[1], i_vector[2], i_vector[3], w_vector[0], w_vector[1], w_vector[2], w_vector[3], out))\n",
    "\n",
    "# Case 4\n",
    "i_vector = [1, 1, -1, -1]\n",
    "w_vector = [1, -1, -1, -1]\n",
    "\n",
    "out = 1 if sum([x*y for x,y in zip(i_vector, w_vector)]) > 0 else 0\n",
    "print('Case 4 :\\n Input i_0 = {0}, Input i_1 = {1}, Input i_2 = {2}, Input i_3 = {3}\\n Weight w_0 = {4}, Weight w_1 = {5}, Weight w_1 = {6}, Weight w_1 = {7}\\n Output = {8}\\n'.format(\n",
    "    i_vector[0], i_vector[1], i_vector[2], i_vector[3], w_vector[0], w_vector[1], w_vector[2], w_vector[3], out))"
   ]
  },
  {
   "cell_type": "code",
   "execution_count": null,
   "metadata": {},
   "outputs": [],
   "source": []
  }
 ],
 "metadata": {
  "kernelspec": {
   "display_name": "Python 3",
   "language": "python",
   "name": "python3"
  },
  "language_info": {
   "codemirror_mode": {
    "name": "ipython",
    "version": 3
   },
   "file_extension": ".py",
   "mimetype": "text/x-python",
   "name": "python",
   "nbconvert_exporter": "python",
   "pygments_lexer": "ipython3",
   "version": "3.6.6"
  }
 },
 "nbformat": 4,
 "nbformat_minor": 2
}
